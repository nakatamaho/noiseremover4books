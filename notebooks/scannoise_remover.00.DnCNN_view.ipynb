{
 "cells": [
  {
   "cell_type": "code",
   "execution_count": 1,
   "metadata": {},
   "outputs": [
    {
     "name": "stdout",
     "output_type": "stream",
     "text": [
      "Hit:1 https://developer.download.nvidia.com/compute/cuda/repos/ubuntu2004/x86_64  InRelease\n",
      "Ign:2 https://developer.download.nvidia.com/compute/machine-learning/repos/ubuntu1804/x86_64  InRelease\n",
      "Hit:3 https://developer.download.nvidia.com/compute/machine-learning/repos/ubuntu1804/x86_64  Release\n",
      "Hit:5 http://archive.ubuntu.com/ubuntu focal InRelease                         \n",
      "Get:6 http://security.ubuntu.com/ubuntu focal-security InRelease [114 kB]      \n",
      "Get:7 http://archive.ubuntu.com/ubuntu focal-updates InRelease [114 kB]\n",
      "Get:8 http://archive.ubuntu.com/ubuntu focal-backports InRelease [108 kB]\n",
      "Fetched 336 kB in 2s (164 kB/s)  \n",
      "Reading package lists... Done\n",
      "Reading package lists... Done\n",
      "Building dependency tree       \n",
      "Reading state information... Done\n",
      "Calculating upgrade... Done\n",
      "The following packages have been kept back:\n",
      "  libnvinfer-plugin7 libnvinfer7\n",
      "0 upgraded, 0 newly installed, 0 to remove and 2 not upgraded.\n",
      "Reading package lists... Done\n",
      "Building dependency tree       \n",
      "Reading state information... Done\n",
      "libgl1-mesa-dev is already the newest version (21.2.6-0ubuntu0.1~20.04.2).\n",
      "0 upgraded, 0 newly installed, 0 to remove and 2 not upgraded.\n",
      "Reading package lists... Done\n",
      "Building dependency tree       \n",
      "Reading state information... Done\n",
      "libglib2.0-0 is already the newest version (2.64.6-1~ubuntu20.04.4).\n",
      "0 upgraded, 0 newly installed, 0 to remove and 2 not upgraded.\n"
     ]
    }
   ],
   "source": [
    "!apt-get update && apt-get upgrade -y\n",
    "!apt install -y libgl1-mesa-dev\n",
    "!apt install -y libglib2.0-0"
   ]
  },
  {
   "cell_type": "code",
   "execution_count": 2,
   "metadata": {
    "scrolled": true
   },
   "outputs": [
    {
     "name": "stdout",
     "output_type": "stream",
     "text": [
      "Requirement already satisfied: opencv-python in /usr/local/lib/python3.8/dist-packages (4.6.0.66)\n",
      "Requirement already satisfied: numpy>=1.14.5; python_version >= \"3.7\" in /usr/local/lib/python3.8/dist-packages (from opencv-python) (1.23.4)\n",
      "\u001b[33mWARNING: You are using pip version 20.2.4; however, version 22.3.1 is available.\n",
      "You should consider upgrading via the '/usr/bin/python3 -m pip install --upgrade pip' command.\u001b[0m\n",
      "Requirement already satisfied: tqdm in /usr/local/lib/python3.8/dist-packages (4.64.1)\n",
      "\u001b[33mWARNING: You are using pip version 20.2.4; however, version 22.3.1 is available.\n",
      "You should consider upgrading via the '/usr/bin/python3 -m pip install --upgrade pip' command.\u001b[0m\n",
      "Requirement already satisfied: scikit-learn in /usr/local/lib/python3.8/dist-packages (1.2.0)\n",
      "Requirement already satisfied: joblib>=1.1.1 in /usr/local/lib/python3.8/dist-packages (from scikit-learn) (1.2.0)\n",
      "Requirement already satisfied: numpy>=1.17.3 in /usr/local/lib/python3.8/dist-packages (from scikit-learn) (1.23.4)\n",
      "Requirement already satisfied: threadpoolctl>=2.0.0 in /usr/local/lib/python3.8/dist-packages (from scikit-learn) (3.1.0)\n",
      "Requirement already satisfied: scipy>=1.3.2 in /usr/local/lib/python3.8/dist-packages (from scikit-learn) (1.9.3)\n",
      "\u001b[33mWARNING: You are using pip version 20.2.4; however, version 22.3.1 is available.\n",
      "You should consider upgrading via the '/usr/bin/python3 -m pip install --upgrade pip' command.\u001b[0m\n"
     ]
    }
   ],
   "source": [
    "!pip install opencv-python\n",
    "!pip install tqdm\n",
    "!pip install scikit-learn"
   ]
  },
  {
   "cell_type": "code",
   "execution_count": 3,
   "metadata": {},
   "outputs": [
    {
     "name": "stdout",
     "output_type": "stream",
     "text": [
      "Mon Dec 12 03:31:36 2022       \r\n",
      "+-----------------------------------------------------------------------------+\r\n",
      "| NVIDIA-SMI 515.65.01    Driver Version: 515.65.01    CUDA Version: 11.7     |\r\n",
      "|-------------------------------+----------------------+----------------------+\r\n",
      "| GPU  Name        Persistence-M| Bus-Id        Disp.A | Volatile Uncorr. ECC |\r\n",
      "| Fan  Temp  Perf  Pwr:Usage/Cap|         Memory-Usage | GPU-Util  Compute M. |\r\n",
      "|                               |                      |               MIG M. |\r\n",
      "|===============================+======================+======================|\r\n",
      "|   0  NVIDIA GeForce ...  Off  | 00000000:01:00.0 Off |                  N/A |\r\n",
      "| 33%   30C    P8    23W / 340W |     17MiB / 10240MiB |      0%      Default |\r\n",
      "|                               |                      |                  N/A |\r\n",
      "+-------------------------------+----------------------+----------------------+\r\n",
      "                                                                               \r\n",
      "+-----------------------------------------------------------------------------+\r\n",
      "| Processes:                                                                  |\r\n",
      "|  GPU   GI   CI        PID   Type   Process name                  GPU Memory |\r\n",
      "|        ID   ID                                                   Usage      |\r\n",
      "|=============================================================================|\r\n",
      "+-----------------------------------------------------------------------------+\r\n"
     ]
    }
   ],
   "source": [
    "!nvidia-smi"
   ]
  },
  {
   "cell_type": "code",
   "execution_count": 4,
   "metadata": {},
   "outputs": [],
   "source": [
    "from IPython.display import Image, display"
   ]
  },
  {
   "cell_type": "code",
   "execution_count": 5,
   "metadata": {},
   "outputs": [],
   "source": [
    "from matplotlib import pyplot as plt"
   ]
  },
  {
   "cell_type": "code",
   "execution_count": 6,
   "metadata": {},
   "outputs": [],
   "source": [
    "import cv2\n",
    "from PIL import ImageFile\n",
    "from PIL import Image"
   ]
  },
  {
   "cell_type": "code",
   "execution_count": 7,
   "metadata": {},
   "outputs": [],
   "source": [
    "import keras\n",
    "from keras.models import load_model\n",
    "from keras.layers import Input, Dense, Conv2D, MaxPooling2D, UpSampling2D, BatchNormalization, Activation\n",
    "from keras.models import Model\n",
    "from keras.callbacks import EarlyStopping, ModelCheckpoint\n",
    "from keras.optimizers import Adam"
   ]
  },
  {
   "cell_type": "code",
   "execution_count": 8,
   "metadata": {},
   "outputs": [],
   "source": [
    "from sklearn.model_selection import train_test_split\n",
    "import tensorflow as tf"
   ]
  },
  {
   "cell_type": "code",
   "execution_count": 9,
   "metadata": {},
   "outputs": [],
   "source": [
    "import random\n",
    "import tqdm\n",
    "import glob"
   ]
  },
  {
   "cell_type": "code",
   "execution_count": 10,
   "metadata": {},
   "outputs": [],
   "source": [
    "from datetime import datetime"
   ]
  },
  {
   "cell_type": "code",
   "execution_count": 11,
   "metadata": {},
   "outputs": [],
   "source": [
    "import matplotlib.pyplot as plt\n",
    "%matplotlib inline"
   ]
  },
  {
   "cell_type": "code",
   "execution_count": 12,
   "metadata": {},
   "outputs": [],
   "source": [
    "import sys\n",
    "import pathlib\n",
    "import os\n",
    "import shutil\n",
    "import math\n",
    "import time"
   ]
  },
  {
   "cell_type": "code",
   "execution_count": 13,
   "metadata": {},
   "outputs": [],
   "source": [
    "import numpy as np"
   ]
  },
  {
   "cell_type": "code",
   "execution_count": 14,
   "metadata": {},
   "outputs": [],
   "source": [
    "window_width = 256\n",
    "window_height = 256\n",
    "model_name=\"00/scannoise_remover\"\n",
    "testimage_epoch = 11\n",
    "testimages_max = 30\n",
    "#random.seed(time.time())\n",
    "random.seed(6)\n",
    "validation_percent = 0.1"
   ]
  },
  {
   "cell_type": "code",
   "execution_count": 15,
   "metadata": {},
   "outputs": [],
   "source": [
    "# split noised data to training and test (validation) sets\n",
    "filenames_train_list=sorted(glob.glob('/work/noised/*/*.png'))\n",
    "X_train, x_test= train_test_split(filenames_train_list, test_size=validation_percent, random_state=42) #from sklearn\n",
    "Y_train = [s.replace('noised', 'clean') for s in X_train]\n",
    "random.shuffle(x_test)\n",
    "y_test = [s.replace('noised', 'clean') for s in x_test]"
   ]
  },
  {
   "cell_type": "code",
   "execution_count": 16,
   "metadata": {},
   "outputs": [],
   "source": [
    "X_test = np.array([np.array(Image.open(file)) for file in x_test[0:testimages_max]])\n",
    "Y_test = np.array([np.array(Image.open(file)) for file in y_test[0:testimages_max]])\n",
    "X_test = X_test.astype('float32')\n",
    "X_test /= 255\n",
    "Y_test = Y_test.astype('float32')\n",
    "Y_test /= 255"
   ]
  },
  {
   "cell_type": "code",
   "execution_count": 17,
   "metadata": {},
   "outputs": [],
   "source": [
    "# definition to show original image and reconstructed image\n",
    "def showOrigDec(orig, noise, denoise, num=5):\n",
    "    import matplotlib.pyplot as plt\n",
    "    n = num\n",
    "    m = 6\n",
    "    plt.figure(dpi=600)  #figsize=(20, 6))\n",
    "\n",
    "    for i in range(n):\n",
    "        # display original\n",
    "        ax = plt.subplot(m, n, i+1)\n",
    "        _orig = np.copy(orig[i])\n",
    "        _orig *= 255\n",
    "        _orig = _orig.astype('uint8')\n",
    "        plt.imshow(_orig.reshape(window_height, window_width, 3))\n",
    "        ax.get_xaxis().set_visible(False)\n",
    "        ax.get_yaxis().set_visible(False)\n",
    "\n",
    "        # sobel of clean image\n",
    "        ax = plt.subplot(m, n, i + 1 + n)\n",
    "        kernel = np.ones((5,5),np.float32)/25\n",
    "        __orig = cv2.filter2D(_orig,-1,kernel)\n",
    "        sobelx64f = cv2.Sobel(__orig,cv2.CV_64F,1,0,ksize=5)\n",
    "        abs_sobel64f = np.absolute(sobelx64f)\n",
    "        sobel_8u = np.uint8(abs_sobel64f)\n",
    "        plt.imshow(sobel_8u.reshape(window_height, window_width, 3)) \n",
    "        ax.get_xaxis().set_visible(False)\n",
    "        ax.get_yaxis().set_visible(False)        \n",
    "        \n",
    "        \n",
    "        # display noisy image\n",
    "        ax = plt.subplot(m, n, i + 1 + 2*n)\n",
    "        _noise = np.copy(noise[i])\n",
    "        _noise *= 255\n",
    "        _noise = _noise.astype('uint8')\n",
    "        plt.imshow(_noise.reshape(window_height, window_width, 3))\n",
    "        ax.get_xaxis().set_visible(False)\n",
    "        ax.get_yaxis().set_visible(False)\n",
    "\n",
    "        # sobel of noisy image\n",
    "        ax = plt.subplot(m, n, i + 1 + 3*n)\n",
    "        kernel = np.ones((5,5),np.float32)/25\n",
    "        __noise = cv2.filter2D(_noise,-1,kernel)\n",
    "        sobelx64f = cv2.Sobel(__noise,cv2.CV_64F,1,0,ksize=5)\n",
    "        abs_sobel64f = np.absolute(sobelx64f)\n",
    "        sobel_8u = np.uint8(abs_sobel64f)\n",
    "        plt.imshow(sobel_8u.reshape(window_height, window_width, 3)) \n",
    "        ax.get_xaxis().set_visible(False)\n",
    "        ax.get_yaxis().set_visible(False)\n",
    "\n",
    "        # display the denoised image\n",
    "        ax = plt.subplot(m, n, i +1 + 4*n)\n",
    "        _denoise = np.copy(denoise[i])\n",
    "        _denoise *= 255\n",
    "        _denoise = _denoise.astype('uint8')\n",
    "        plt.imshow(_denoise.reshape(window_height, window_width, 3))\n",
    "        ax.get_xaxis().set_visible(False)\n",
    "        ax.get_yaxis().set_visible(False)\n",
    "\n",
    "        # display diff between the original and the denoised image\n",
    "        ax = plt.subplot(m, n, i +1 + 5*n)\n",
    "        kernel = np.ones((5,5),np.float32)/25\n",
    "        __denoise = cv2.filter2D(_denoise,-1,kernel)\n",
    "        sobelx64f = cv2.Sobel(__denoise,cv2.CV_64F,1,0,ksize=5)\n",
    "        abs_sobel64f = np.absolute(sobelx64f)\n",
    "        sobel_8u = np.uint8(abs_sobel64f)\n",
    "        plt.imshow(sobel_8u.reshape(window_height, window_width, 3))\n",
    "        ax.get_xaxis().set_visible(False)\n",
    "        ax.get_yaxis().set_visible(False)\n",
    "\n",
    "    plt.show()"
   ]
  },
  {
   "cell_type": "code",
   "execution_count": null,
   "metadata": {},
   "outputs": [
    {
     "name": "stdout",
     "output_type": "stream",
     "text": [
      "Model: \"model\"\n",
      "_________________________________________________________________\n",
      " Layer (type)                Output Shape              Param #   \n",
      "=================================================================\n",
      " input_1 (InputLayer)        [(None, 256, 256, 3)]     0         \n",
      "                                                                 \n",
      " conv2d (Conv2D)             (None, 256, 256, 64)      1792      \n",
      "                                                                 \n",
      " activation (Activation)     (None, 256, 256, 64)      0         \n",
      "                                                                 \n",
      " conv2d_1 (Conv2D)           (None, 256, 256, 64)      36928     \n",
      "                                                                 \n",
      " batch_normalization (BatchN  (None, 256, 256, 64)     256       \n",
      " ormalization)                                                   \n",
      "                                                                 \n",
      " activation_1 (Activation)   (None, 256, 256, 64)      0         \n",
      "                                                                 \n",
      " conv2d_2 (Conv2D)           (None, 256, 256, 64)      36928     \n",
      "                                                                 \n",
      " batch_normalization_1 (Batc  (None, 256, 256, 64)     256       \n",
      " hNormalization)                                                 \n",
      "                                                                 \n",
      " activation_2 (Activation)   (None, 256, 256, 64)      0         \n",
      "                                                                 \n",
      " conv2d_3 (Conv2D)           (None, 256, 256, 64)      36928     \n",
      "                                                                 \n",
      " batch_normalization_2 (Batc  (None, 256, 256, 64)     256       \n",
      " hNormalization)                                                 \n",
      "                                                                 \n",
      " activation_3 (Activation)   (None, 256, 256, 64)      0         \n",
      "                                                                 \n",
      " conv2d_4 (Conv2D)           (None, 256, 256, 64)      36928     \n",
      "                                                                 \n",
      " batch_normalization_3 (Batc  (None, 256, 256, 64)     256       \n",
      " hNormalization)                                                 \n",
      "                                                                 \n",
      " activation_4 (Activation)   (None, 256, 256, 64)      0         \n",
      "                                                                 \n",
      " conv2d_5 (Conv2D)           (None, 256, 256, 64)      36928     \n",
      "                                                                 \n",
      " batch_normalization_4 (Batc  (None, 256, 256, 64)     256       \n",
      " hNormalization)                                                 \n",
      "                                                                 \n",
      " activation_5 (Activation)   (None, 256, 256, 64)      0         \n",
      "                                                                 \n",
      " conv2d_6 (Conv2D)           (None, 256, 256, 64)      36928     \n",
      "                                                                 \n",
      " batch_normalization_5 (Batc  (None, 256, 256, 64)     256       \n",
      " hNormalization)                                                 \n",
      "                                                                 \n",
      " activation_6 (Activation)   (None, 256, 256, 64)      0         \n",
      "                                                                 \n",
      " conv2d_7 (Conv2D)           (None, 256, 256, 64)      36928     \n",
      "                                                                 \n",
      " batch_normalization_6 (Batc  (None, 256, 256, 64)     256       \n",
      " hNormalization)                                                 \n",
      "                                                                 \n",
      " activation_7 (Activation)   (None, 256, 256, 64)      0         \n",
      "                                                                 \n",
      " conv2d_8 (Conv2D)           (None, 256, 256, 64)      36928     \n",
      "                                                                 \n",
      " batch_normalization_7 (Batc  (None, 256, 256, 64)     256       \n",
      " hNormalization)                                                 \n",
      "                                                                 \n",
      " activation_8 (Activation)   (None, 256, 256, 64)      0         \n",
      "                                                                 \n",
      " conv2d_9 (Conv2D)           (None, 256, 256, 64)      36928     \n",
      "                                                                 \n",
      " batch_normalization_8 (Batc  (None, 256, 256, 64)     256       \n",
      " hNormalization)                                                 \n",
      "                                                                 \n",
      " activation_9 (Activation)   (None, 256, 256, 64)      0         \n",
      "                                                                 \n",
      " conv2d_10 (Conv2D)          (None, 256, 256, 64)      36928     \n",
      "                                                                 \n",
      " batch_normalization_9 (Batc  (None, 256, 256, 64)     256       \n",
      " hNormalization)                                                 \n",
      "                                                                 \n",
      " activation_10 (Activation)  (None, 256, 256, 64)      0         \n",
      "                                                                 \n",
      " conv2d_11 (Conv2D)          (None, 256, 256, 64)      36928     \n",
      "                                                                 \n",
      " batch_normalization_10 (Bat  (None, 256, 256, 64)     256       \n",
      " chNormalization)                                                \n",
      "                                                                 \n",
      " activation_11 (Activation)  (None, 256, 256, 64)      0         \n",
      "                                                                 \n",
      " conv2d_12 (Conv2D)          (None, 256, 256, 64)      36928     \n",
      "                                                                 \n",
      " batch_normalization_11 (Bat  (None, 256, 256, 64)     256       \n",
      " chNormalization)                                                \n",
      "                                                                 \n",
      " activation_12 (Activation)  (None, 256, 256, 64)      0         \n",
      "                                                                 \n",
      " conv2d_13 (Conv2D)          (None, 256, 256, 64)      36928     \n",
      "                                                                 \n",
      " batch_normalization_12 (Bat  (None, 256, 256, 64)     256       \n",
      " chNormalization)                                                \n",
      "                                                                 \n",
      " activation_13 (Activation)  (None, 256, 256, 64)      0         \n",
      "                                                                 \n",
      " conv2d_14 (Conv2D)          (None, 256, 256, 64)      36928     \n",
      "                                                                 \n",
      " batch_normalization_13 (Bat  (None, 256, 256, 64)     256       \n",
      " chNormalization)                                                \n",
      "                                                                 \n",
      " activation_14 (Activation)  (None, 256, 256, 64)      0         \n",
      "                                                                 \n",
      " conv2d_15 (Conv2D)          (None, 256, 256, 64)      36928     \n",
      "                                                                 \n",
      " batch_normalization_14 (Bat  (None, 256, 256, 64)     256       \n",
      " chNormalization)                                                \n",
      "                                                                 \n",
      " activation_15 (Activation)  (None, 256, 256, 64)      0         \n",
      "                                                                 \n",
      " conv2d_16 (Conv2D)          (None, 256, 256, 3)       1731      \n",
      "                                                                 \n",
      " activation_16 (Activation)  (None, 256, 256, 3)       0         \n",
      "                                                                 \n",
      "=================================================================\n",
      "Total params: 561,283\n",
      "Trainable params: 559,363\n",
      "Non-trainable params: 1,920\n",
      "_________________________________________________________________\n",
      "testimages:  30\n",
      "1/1 [==============================] - 2s 2s/step - loss: 3.9930e-04\n",
      "<class 'float'>\n"
     ]
    }
   ],
   "source": [
    "model = load_model(model_name + '.' + str(testimage_epoch).zfill(3) + '.h5')\n",
    "model.summary()\n",
    "print(\"testimages: \", testimages_max)\n",
    "with tf.device('/cpu:0'):\n",
    "    score = model.evaluate(X_test[0:testimages_max], Y_test[0:testimages_max])\n",
    "    print(type(score))\n",
    "    magazine_test = model.predict(X_test[0:testimages_max])"
   ]
  },
  {
   "cell_type": "code",
   "execution_count": null,
   "metadata": {
    "scrolled": true
   },
   "outputs": [],
   "source": [
    "for i in range(int(testimages_max/5)):\n",
    "    showOrigDec(Y_test[i*5:], X_test[i*5:], magazine_test[i*5:])"
   ]
  },
  {
   "cell_type": "code",
   "execution_count": null,
   "metadata": {},
   "outputs": [],
   "source": []
  }
 ],
 "metadata": {
  "kernelspec": {
   "display_name": "Python 3",
   "language": "python",
   "name": "python3"
  },
  "language_info": {
   "codemirror_mode": {
    "name": "ipython",
    "version": 3
   },
   "file_extension": ".py",
   "mimetype": "text/x-python",
   "name": "python",
   "nbconvert_exporter": "python",
   "pygments_lexer": "ipython3",
   "version": "3.8.10"
  }
 },
 "nbformat": 4,
 "nbformat_minor": 2
}
